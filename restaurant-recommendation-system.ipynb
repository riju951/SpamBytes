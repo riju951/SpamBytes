{
 "cells": [
  {
   "cell_type": "code",
   "execution_count": 3,
   "id": "e345b256",
   "metadata": {
    "execution": {
     "iopub.execute_input": "2022-03-10T21:00:08.199488Z",
     "iopub.status.busy": "2022-03-10T21:00:08.198794Z",
     "iopub.status.idle": "2022-03-10T21:00:11.709039Z",
     "shell.execute_reply": "2022-03-10T21:00:11.708068Z",
     "shell.execute_reply.started": "2022-03-10T20:42:22.722585Z"
    },
    "id": "HTDlG4GKCqaX",
    "papermill": {
     "duration": 3.556963,
     "end_time": "2022-03-10T21:00:11.709232",
     "exception": false,
     "start_time": "2022-03-10T21:00:08.152269",
     "status": "completed"
    },
    "tags": []
   },
   "outputs": [],
   "source": [
    "import pandas as pd \n",
    "import numpy as np\n",
    "import matplotlib.pyplot as plt\n",
    "import seaborn as sns\n",
    "from sklearn.cluster import KMeans\n",
    "from sklearn.metrics import silhouette_score\n",
    "import warnings\n",
    "import geocoder"
   ]
  },
  {
   "cell_type": "code",
   "execution_count": 4,
   "id": "385f23fc",
   "metadata": {
    "execution": {
     "iopub.execute_input": "2022-03-10T21:00:17.960636Z",
     "iopub.status.busy": "2022-03-10T21:00:17.959936Z",
     "iopub.status.idle": "2022-03-10T21:00:23.760449Z",
     "shell.execute_reply": "2022-03-10T21:00:23.760917Z",
     "shell.execute_reply.started": "2022-03-10T20:42:41.052919Z"
    },
    "executionInfo": {
     "elapsed": 4806,
     "status": "ok",
     "timestamp": 1624712792112,
     "user": {
      "displayName": "siddharth patra",
      "photoUrl": "https://lh3.googleusercontent.com/a-/AOh14Gjnwsdj5DKa95WHRl25dlQz9L1Bbc10vap4xTNIiA=s64",
      "userId": "01966341811263607507"
     },
     "user_tz": -330
    },
    "id": "xNyEAmNMDGWU",
    "outputId": "125396de-fe7f-4f7d-c2e5-d54bbb57a258",
    "papermill": {
     "duration": 5.853264,
     "end_time": "2022-03-10T21:00:23.761088",
     "exception": false,
     "start_time": "2022-03-10T21:00:17.907824",
     "status": "completed"
    },
    "tags": []
   },
   "outputs": [
    {
     "data": {
      "text/html": [
       "<div>\n",
       "<style scoped>\n",
       "    .dataframe tbody tr th:only-of-type {\n",
       "        vertical-align: middle;\n",
       "    }\n",
       "\n",
       "    .dataframe tbody tr th {\n",
       "        vertical-align: top;\n",
       "    }\n",
       "\n",
       "    .dataframe thead th {\n",
       "        text-align: right;\n",
       "    }\n",
       "</style>\n",
       "<table border=\"1\" class=\"dataframe\">\n",
       "  <thead>\n",
       "    <tr style=\"text-align: right;\">\n",
       "      <th></th>\n",
       "      <th>business_id</th>\n",
       "      <th>name</th>\n",
       "      <th>address</th>\n",
       "      <th>city</th>\n",
       "      <th>state</th>\n",
       "      <th>postal_code</th>\n",
       "      <th>latitude</th>\n",
       "      <th>longitude</th>\n",
       "      <th>stars</th>\n",
       "      <th>review_count</th>\n",
       "      <th>is_open</th>\n",
       "      <th>attributes</th>\n",
       "      <th>categories</th>\n",
       "      <th>hours</th>\n",
       "    </tr>\n",
       "  </thead>\n",
       "  <tbody>\n",
       "    <tr>\n",
       "      <th>0</th>\n",
       "      <td>6iYb2HFDywm3zjuRg0shjw</td>\n",
       "      <td>Oskar Blues Taproom</td>\n",
       "      <td>921 Pearl St</td>\n",
       "      <td>Boulder</td>\n",
       "      <td>CO</td>\n",
       "      <td>80302</td>\n",
       "      <td>40.017544</td>\n",
       "      <td>-105.283348</td>\n",
       "      <td>4.0</td>\n",
       "      <td>86</td>\n",
       "      <td>1</td>\n",
       "      <td>{'RestaurantsTableService': 'True', 'WiFi': 'u...</td>\n",
       "      <td>Gastropubs, Food, Beer Gardens, Restaurants, B...</td>\n",
       "      <td>{'Monday': '11:0-23:0', 'Tuesday': '11:0-23:0'...</td>\n",
       "    </tr>\n",
       "    <tr>\n",
       "      <th>1</th>\n",
       "      <td>tCbdrRPZA0oiIYSmHG3J0w</td>\n",
       "      <td>Flying Elephants at PDX</td>\n",
       "      <td>7000 NE Airport Way</td>\n",
       "      <td>Portland</td>\n",
       "      <td>OR</td>\n",
       "      <td>97218</td>\n",
       "      <td>45.588906</td>\n",
       "      <td>-122.593331</td>\n",
       "      <td>4.0</td>\n",
       "      <td>126</td>\n",
       "      <td>1</td>\n",
       "      <td>{'RestaurantsTakeOut': 'True', 'RestaurantsAtt...</td>\n",
       "      <td>Salad, Soup, Sandwiches, Delis, Restaurants, C...</td>\n",
       "      <td>{'Monday': '5:0-18:0', 'Tuesday': '5:0-17:0', ...</td>\n",
       "    </tr>\n",
       "    <tr>\n",
       "      <th>2</th>\n",
       "      <td>bvN78flM8NLprQ1a1y5dRg</td>\n",
       "      <td>The Reclaimory</td>\n",
       "      <td>4720 Hawthorne Ave</td>\n",
       "      <td>Portland</td>\n",
       "      <td>OR</td>\n",
       "      <td>97214</td>\n",
       "      <td>45.511907</td>\n",
       "      <td>-122.613693</td>\n",
       "      <td>4.5</td>\n",
       "      <td>13</td>\n",
       "      <td>1</td>\n",
       "      <td>{'BusinessAcceptsCreditCards': 'True', 'Restau...</td>\n",
       "      <td>Antiques, Fashion, Used, Vintage &amp; Consignment...</td>\n",
       "      <td>{'Thursday': '11:0-18:0', 'Friday': '11:0-18:0...</td>\n",
       "    </tr>\n",
       "    <tr>\n",
       "      <th>3</th>\n",
       "      <td>oaepsyvc0J17qwi8cfrOWg</td>\n",
       "      <td>Great Clips</td>\n",
       "      <td>2566 Enterprise Rd</td>\n",
       "      <td>Orange City</td>\n",
       "      <td>FL</td>\n",
       "      <td>32763</td>\n",
       "      <td>28.914482</td>\n",
       "      <td>-81.295979</td>\n",
       "      <td>3.0</td>\n",
       "      <td>8</td>\n",
       "      <td>1</td>\n",
       "      <td>{'RestaurantsPriceRange2': '1', 'BusinessAccep...</td>\n",
       "      <td>Beauty &amp; Spas, Hair Salons</td>\n",
       "      <td>None</td>\n",
       "    </tr>\n",
       "    <tr>\n",
       "      <th>4</th>\n",
       "      <td>PE9uqAjdw0E4-8mjGl3wVA</td>\n",
       "      <td>Crossfit Terminus</td>\n",
       "      <td>1046 Memorial Dr SE</td>\n",
       "      <td>Atlanta</td>\n",
       "      <td>GA</td>\n",
       "      <td>30316</td>\n",
       "      <td>33.747027</td>\n",
       "      <td>-84.353424</td>\n",
       "      <td>4.0</td>\n",
       "      <td>14</td>\n",
       "      <td>1</td>\n",
       "      <td>{'GoodForKids': 'False', 'BusinessParking': '{...</td>\n",
       "      <td>Gyms, Active Life, Interval Training Gyms, Fit...</td>\n",
       "      <td>{'Monday': '16:0-19:0', 'Tuesday': '16:0-19:0'...</td>\n",
       "    </tr>\n",
       "  </tbody>\n",
       "</table>\n",
       "</div>"
      ],
      "text/plain": [
       "              business_id                     name              address   \n",
       "0  6iYb2HFDywm3zjuRg0shjw      Oskar Blues Taproom         921 Pearl St  \\\n",
       "1  tCbdrRPZA0oiIYSmHG3J0w  Flying Elephants at PDX  7000 NE Airport Way   \n",
       "2  bvN78flM8NLprQ1a1y5dRg           The Reclaimory   4720 Hawthorne Ave   \n",
       "3  oaepsyvc0J17qwi8cfrOWg              Great Clips   2566 Enterprise Rd   \n",
       "4  PE9uqAjdw0E4-8mjGl3wVA        Crossfit Terminus  1046 Memorial Dr SE   \n",
       "\n",
       "          city state postal_code   latitude   longitude  stars  review_count   \n",
       "0      Boulder    CO       80302  40.017544 -105.283348    4.0            86  \\\n",
       "1     Portland    OR       97218  45.588906 -122.593331    4.0           126   \n",
       "2     Portland    OR       97214  45.511907 -122.613693    4.5            13   \n",
       "3  Orange City    FL       32763  28.914482  -81.295979    3.0             8   \n",
       "4      Atlanta    GA       30316  33.747027  -84.353424    4.0            14   \n",
       "\n",
       "   is_open                                         attributes   \n",
       "0        1  {'RestaurantsTableService': 'True', 'WiFi': 'u...  \\\n",
       "1        1  {'RestaurantsTakeOut': 'True', 'RestaurantsAtt...   \n",
       "2        1  {'BusinessAcceptsCreditCards': 'True', 'Restau...   \n",
       "3        1  {'RestaurantsPriceRange2': '1', 'BusinessAccep...   \n",
       "4        1  {'GoodForKids': 'False', 'BusinessParking': '{...   \n",
       "\n",
       "                                          categories   \n",
       "0  Gastropubs, Food, Beer Gardens, Restaurants, B...  \\\n",
       "1  Salad, Soup, Sandwiches, Delis, Restaurants, C...   \n",
       "2  Antiques, Fashion, Used, Vintage & Consignment...   \n",
       "3                         Beauty & Spas, Hair Salons   \n",
       "4  Gyms, Active Life, Interval Training Gyms, Fit...   \n",
       "\n",
       "                                               hours  \n",
       "0  {'Monday': '11:0-23:0', 'Tuesday': '11:0-23:0'...  \n",
       "1  {'Monday': '5:0-18:0', 'Tuesday': '5:0-17:0', ...  \n",
       "2  {'Thursday': '11:0-18:0', 'Friday': '11:0-18:0...  \n",
       "3                                               None  \n",
       "4  {'Monday': '16:0-19:0', 'Tuesday': '16:0-19:0'...  "
      ]
     },
     "execution_count": 4,
     "metadata": {},
     "output_type": "execute_result"
    }
   ],
   "source": [
    "df = pd.read_json('/Users/setuparmar/Downloads/yelp_academic_dataset_business.json', lines=True)\n",
    "df.head()"
   ]
  },
  {
   "cell_type": "code",
   "execution_count": 5,
   "id": "485373dd",
   "metadata": {
    "execution": {
     "iopub.execute_input": "2022-03-10T21:00:23.860617Z",
     "iopub.status.busy": "2022-03-10T21:00:23.860012Z",
     "iopub.status.idle": "2022-03-10T21:00:23.862640Z",
     "shell.execute_reply": "2022-03-10T21:00:23.863190Z"
    },
    "executionInfo": {
     "elapsed": 38,
     "status": "ok",
     "timestamp": 1624712792130,
     "user": {
      "displayName": "siddharth patra",
      "photoUrl": "https://lh3.googleusercontent.com/a-/AOh14Gjnwsdj5DKa95WHRl25dlQz9L1Bbc10vap4xTNIiA=s64",
      "userId": "01966341811263607507"
     },
     "user_tz": -330
    },
    "id": "0jcZSAggDN9m",
    "outputId": "7b83bcad-0e3b-4c9f-b2a9-193c274b7451",
    "papermill": {
     "duration": 0.055036,
     "end_time": "2022-03-10T21:00:23.863351",
     "exception": false,
     "start_time": "2022-03-10T21:00:23.808315",
     "status": "completed"
    },
    "tags": []
   },
   "outputs": [
    {
     "data": {
      "text/plain": [
       "(160585, 14)"
      ]
     },
     "execution_count": 5,
     "metadata": {},
     "output_type": "execute_result"
    }
   ],
   "source": [
    "df.shape"
   ]
  },
  {
   "cell_type": "markdown",
   "id": "0c39971d",
   "metadata": {
    "id": "1yKmzBZLeWiz",
    "papermill": {
     "duration": 0.047509,
     "end_time": "2022-03-10T21:00:23.959399",
     "exception": false,
     "start_time": "2022-03-10T21:00:23.911890",
     "status": "completed"
    },
    "tags": []
   },
   "source": [
    "## Exploratory Data Analaysis (EDA)"
   ]
  },
  {
   "cell_type": "code",
   "execution_count": 6,
   "id": "a46c78d5",
   "metadata": {
    "execution": {
     "iopub.execute_input": "2022-03-10T21:00:24.114868Z",
     "iopub.status.busy": "2022-03-10T21:00:24.057893Z",
     "iopub.status.idle": "2022-03-10T21:00:24.198737Z",
     "shell.execute_reply": "2022-03-10T21:00:24.198111Z"
    },
    "executionInfo": {
     "elapsed": 34,
     "status": "ok",
     "timestamp": 1624712792133,
     "user": {
      "displayName": "siddharth patra",
      "photoUrl": "https://lh3.googleusercontent.com/a-/AOh14Gjnwsdj5DKa95WHRl25dlQz9L1Bbc10vap4xTNIiA=s64",
      "userId": "01966341811263607507"
     },
     "user_tz": -330
    },
    "id": "4Jw4J-CMDPXs",
    "outputId": "c02046e2-79f2-4812-cb71-e2ce6d056655",
    "papermill": {
     "duration": 0.191854,
     "end_time": "2022-03-10T21:00:24.198879",
     "exception": false,
     "start_time": "2022-03-10T21:00:24.007025",
     "status": "completed"
    },
    "tags": []
   },
   "outputs": [
    {
     "data": {
      "text/html": [
       "<div>\n",
       "<style scoped>\n",
       "    .dataframe tbody tr th:only-of-type {\n",
       "        vertical-align: middle;\n",
       "    }\n",
       "\n",
       "    .dataframe tbody tr th {\n",
       "        vertical-align: top;\n",
       "    }\n",
       "\n",
       "    .dataframe thead th {\n",
       "        text-align: right;\n",
       "    }\n",
       "</style>\n",
       "<table border=\"1\" class=\"dataframe\">\n",
       "  <thead>\n",
       "    <tr style=\"text-align: right;\">\n",
       "      <th></th>\n",
       "      <th>business_id</th>\n",
       "      <th>name</th>\n",
       "      <th>address</th>\n",
       "      <th>city</th>\n",
       "      <th>state</th>\n",
       "      <th>postal_code</th>\n",
       "      <th>latitude</th>\n",
       "      <th>longitude</th>\n",
       "      <th>stars</th>\n",
       "      <th>review_count</th>\n",
       "      <th>is_open</th>\n",
       "      <th>attributes</th>\n",
       "      <th>categories</th>\n",
       "      <th>hours</th>\n",
       "      <th>Restaurants</th>\n",
       "    </tr>\n",
       "  </thead>\n",
       "  <tbody>\n",
       "    <tr>\n",
       "      <th>0</th>\n",
       "      <td>6iYb2HFDywm3zjuRg0shjw</td>\n",
       "      <td>Oskar Blues Taproom</td>\n",
       "      <td>921 Pearl St</td>\n",
       "      <td>Boulder</td>\n",
       "      <td>CO</td>\n",
       "      <td>80302</td>\n",
       "      <td>40.017544</td>\n",
       "      <td>-105.283348</td>\n",
       "      <td>4.0</td>\n",
       "      <td>86</td>\n",
       "      <td>1</td>\n",
       "      <td>{'RestaurantsTableService': 'True', 'WiFi': 'u...</td>\n",
       "      <td>Gastropubs, Food, Beer Gardens, Restaurants, B...</td>\n",
       "      <td>{'Monday': '11:0-23:0', 'Tuesday': '11:0-23:0'...</td>\n",
       "      <td>True</td>\n",
       "    </tr>\n",
       "    <tr>\n",
       "      <th>1</th>\n",
       "      <td>tCbdrRPZA0oiIYSmHG3J0w</td>\n",
       "      <td>Flying Elephants at PDX</td>\n",
       "      <td>7000 NE Airport Way</td>\n",
       "      <td>Portland</td>\n",
       "      <td>OR</td>\n",
       "      <td>97218</td>\n",
       "      <td>45.588906</td>\n",
       "      <td>-122.593331</td>\n",
       "      <td>4.0</td>\n",
       "      <td>126</td>\n",
       "      <td>1</td>\n",
       "      <td>{'RestaurantsTakeOut': 'True', 'RestaurantsAtt...</td>\n",
       "      <td>Salad, Soup, Sandwiches, Delis, Restaurants, C...</td>\n",
       "      <td>{'Monday': '5:0-18:0', 'Tuesday': '5:0-17:0', ...</td>\n",
       "      <td>True</td>\n",
       "    </tr>\n",
       "  </tbody>\n",
       "</table>\n",
       "</div>"
      ],
      "text/plain": [
       "              business_id                     name              address   \n",
       "0  6iYb2HFDywm3zjuRg0shjw      Oskar Blues Taproom         921 Pearl St  \\\n",
       "1  tCbdrRPZA0oiIYSmHG3J0w  Flying Elephants at PDX  7000 NE Airport Way   \n",
       "\n",
       "       city state postal_code   latitude   longitude  stars  review_count   \n",
       "0   Boulder    CO       80302  40.017544 -105.283348    4.0            86  \\\n",
       "1  Portland    OR       97218  45.588906 -122.593331    4.0           126   \n",
       "\n",
       "   is_open                                         attributes   \n",
       "0        1  {'RestaurantsTableService': 'True', 'WiFi': 'u...  \\\n",
       "1        1  {'RestaurantsTakeOut': 'True', 'RestaurantsAtt...   \n",
       "\n",
       "                                          categories   \n",
       "0  Gastropubs, Food, Beer Gardens, Restaurants, B...  \\\n",
       "1  Salad, Soup, Sandwiches, Delis, Restaurants, C...   \n",
       "\n",
       "                                               hours Restaurants  \n",
       "0  {'Monday': '11:0-23:0', 'Tuesday': '11:0-23:0'...        True  \n",
       "1  {'Monday': '5:0-18:0', 'Tuesday': '5:0-17:0', ...        True  "
      ]
     },
     "execution_count": 6,
     "metadata": {},
     "output_type": "execute_result"
    }
   ],
   "source": [
    "df['Restaurants'] = df['categories'].str.contains('Restaurants')\n",
    "df.head(2)"
   ]
  },
  {
   "cell_type": "code",
   "execution_count": 7,
   "id": "882d0f8f",
   "metadata": {
    "execution": {
     "iopub.execute_input": "2022-03-10T21:00:24.301956Z",
     "iopub.status.busy": "2022-03-10T21:00:24.301365Z",
     "iopub.status.idle": "2022-03-10T21:00:24.451820Z",
     "shell.execute_reply": "2022-03-10T21:00:24.451325Z"
    },
    "executionInfo": {
     "elapsed": 33,
     "status": "ok",
     "timestamp": 1624712792134,
     "user": {
      "displayName": "siddharth patra",
      "photoUrl": "https://lh3.googleusercontent.com/a-/AOh14Gjnwsdj5DKa95WHRl25dlQz9L1Bbc10vap4xTNIiA=s64",
      "userId": "01966341811263607507"
     },
     "user_tz": -330
    },
    "id": "xtgqKKSWDRaf",
    "outputId": "2049ceca-320e-4b88-d2c9-499e36579976",
    "papermill": {
     "duration": 0.203211,
     "end_time": "2022-03-10T21:00:24.451968",
     "exception": false,
     "start_time": "2022-03-10T21:00:24.248757",
     "status": "completed"
    },
    "tags": []
   },
   "outputs": [
    {
     "data": {
      "text/html": [
       "<div>\n",
       "<style scoped>\n",
       "    .dataframe tbody tr th:only-of-type {\n",
       "        vertical-align: middle;\n",
       "    }\n",
       "\n",
       "    .dataframe tbody tr th {\n",
       "        vertical-align: top;\n",
       "    }\n",
       "\n",
       "    .dataframe thead th {\n",
       "        text-align: right;\n",
       "    }\n",
       "</style>\n",
       "<table border=\"1\" class=\"dataframe\">\n",
       "  <thead>\n",
       "    <tr style=\"text-align: right;\">\n",
       "      <th></th>\n",
       "      <th>business_id</th>\n",
       "      <th>name</th>\n",
       "      <th>address</th>\n",
       "      <th>city</th>\n",
       "      <th>state</th>\n",
       "      <th>postal_code</th>\n",
       "      <th>latitude</th>\n",
       "      <th>longitude</th>\n",
       "      <th>stars</th>\n",
       "      <th>review_count</th>\n",
       "      <th>is_open</th>\n",
       "      <th>attributes</th>\n",
       "      <th>categories</th>\n",
       "      <th>hours</th>\n",
       "      <th>Restaurants</th>\n",
       "    </tr>\n",
       "  </thead>\n",
       "  <tbody>\n",
       "    <tr>\n",
       "      <th>0</th>\n",
       "      <td>6iYb2HFDywm3zjuRg0shjw</td>\n",
       "      <td>Oskar Blues Taproom</td>\n",
       "      <td>921 Pearl St</td>\n",
       "      <td>Boulder</td>\n",
       "      <td>CO</td>\n",
       "      <td>80302</td>\n",
       "      <td>40.017544</td>\n",
       "      <td>-105.283348</td>\n",
       "      <td>4.0</td>\n",
       "      <td>86</td>\n",
       "      <td>1</td>\n",
       "      <td>{'RestaurantsTableService': 'True', 'WiFi': 'u...</td>\n",
       "      <td>Gastropubs, Food, Beer Gardens, Restaurants, B...</td>\n",
       "      <td>{'Monday': '11:0-23:0', 'Tuesday': '11:0-23:0'...</td>\n",
       "      <td>True</td>\n",
       "    </tr>\n",
       "    <tr>\n",
       "      <th>1</th>\n",
       "      <td>tCbdrRPZA0oiIYSmHG3J0w</td>\n",
       "      <td>Flying Elephants at PDX</td>\n",
       "      <td>7000 NE Airport Way</td>\n",
       "      <td>Portland</td>\n",
       "      <td>OR</td>\n",
       "      <td>97218</td>\n",
       "      <td>45.588906</td>\n",
       "      <td>-122.593331</td>\n",
       "      <td>4.0</td>\n",
       "      <td>126</td>\n",
       "      <td>1</td>\n",
       "      <td>{'RestaurantsTakeOut': 'True', 'RestaurantsAtt...</td>\n",
       "      <td>Salad, Soup, Sandwiches, Delis, Restaurants, C...</td>\n",
       "      <td>{'Monday': '5:0-18:0', 'Tuesday': '5:0-17:0', ...</td>\n",
       "      <td>True</td>\n",
       "    </tr>\n",
       "    <tr>\n",
       "      <th>5</th>\n",
       "      <td>D4JtQNTI4X3KcbzacDJsMw</td>\n",
       "      <td>Bob Likes Thai Food</td>\n",
       "      <td>3755 Main St</td>\n",
       "      <td>Vancouver</td>\n",
       "      <td>BC</td>\n",
       "      <td>V5V</td>\n",
       "      <td>49.251342</td>\n",
       "      <td>-123.101333</td>\n",
       "      <td>3.5</td>\n",
       "      <td>169</td>\n",
       "      <td>1</td>\n",
       "      <td>{'GoodForKids': 'True', 'Alcohol': 'u'none'', ...</td>\n",
       "      <td>Restaurants, Thai</td>\n",
       "      <td>{'Monday': '17:0-21:0', 'Tuesday': '17:0-21:0'...</td>\n",
       "      <td>True</td>\n",
       "    </tr>\n",
       "    <tr>\n",
       "      <th>7</th>\n",
       "      <td>jFYIsSb7r1QeESVUnXPHBw</td>\n",
       "      <td>Boxwood Biscuit</td>\n",
       "      <td>740 S High St</td>\n",
       "      <td>Columbus</td>\n",
       "      <td>OH</td>\n",
       "      <td>43206</td>\n",
       "      <td>39.947007</td>\n",
       "      <td>-82.997471</td>\n",
       "      <td>4.5</td>\n",
       "      <td>11</td>\n",
       "      <td>1</td>\n",
       "      <td>None</td>\n",
       "      <td>Breakfast &amp; Brunch, Restaurants</td>\n",
       "      <td>{'Saturday': '8:0-14:0', 'Sunday': '8:0-14:0'}</td>\n",
       "      <td>True</td>\n",
       "    </tr>\n",
       "    <tr>\n",
       "      <th>12</th>\n",
       "      <td>HPA_qyMEddpAEtFof02ixg</td>\n",
       "      <td>Mr G's Pizza &amp; Subs</td>\n",
       "      <td>474 Lowell St</td>\n",
       "      <td>Peabody</td>\n",
       "      <td>MA</td>\n",
       "      <td>01960</td>\n",
       "      <td>42.541155</td>\n",
       "      <td>-70.973438</td>\n",
       "      <td>4.0</td>\n",
       "      <td>39</td>\n",
       "      <td>1</td>\n",
       "      <td>{'RestaurantsGoodForGroups': 'True', 'HasTV': ...</td>\n",
       "      <td>Food, Pizza, Restaurants</td>\n",
       "      <td>{'Monday': '11:0-21:0', 'Tuesday': '11:0-21:0'...</td>\n",
       "      <td>True</td>\n",
       "    </tr>\n",
       "  </tbody>\n",
       "</table>\n",
       "</div>"
      ],
      "text/plain": [
       "               business_id                     name              address   \n",
       "0   6iYb2HFDywm3zjuRg0shjw      Oskar Blues Taproom         921 Pearl St  \\\n",
       "1   tCbdrRPZA0oiIYSmHG3J0w  Flying Elephants at PDX  7000 NE Airport Way   \n",
       "5   D4JtQNTI4X3KcbzacDJsMw      Bob Likes Thai Food         3755 Main St   \n",
       "7   jFYIsSb7r1QeESVUnXPHBw          Boxwood Biscuit        740 S High St   \n",
       "12  HPA_qyMEddpAEtFof02ixg      Mr G's Pizza & Subs        474 Lowell St   \n",
       "\n",
       "         city state postal_code   latitude   longitude  stars  review_count   \n",
       "0     Boulder    CO       80302  40.017544 -105.283348    4.0            86  \\\n",
       "1    Portland    OR       97218  45.588906 -122.593331    4.0           126   \n",
       "5   Vancouver    BC         V5V  49.251342 -123.101333    3.5           169   \n",
       "7    Columbus    OH       43206  39.947007  -82.997471    4.5            11   \n",
       "12    Peabody    MA       01960  42.541155  -70.973438    4.0            39   \n",
       "\n",
       "    is_open                                         attributes   \n",
       "0         1  {'RestaurantsTableService': 'True', 'WiFi': 'u...  \\\n",
       "1         1  {'RestaurantsTakeOut': 'True', 'RestaurantsAtt...   \n",
       "5         1  {'GoodForKids': 'True', 'Alcohol': 'u'none'', ...   \n",
       "7         1                                               None   \n",
       "12        1  {'RestaurantsGoodForGroups': 'True', 'HasTV': ...   \n",
       "\n",
       "                                           categories   \n",
       "0   Gastropubs, Food, Beer Gardens, Restaurants, B...  \\\n",
       "1   Salad, Soup, Sandwiches, Delis, Restaurants, C...   \n",
       "5                                   Restaurants, Thai   \n",
       "7                     Breakfast & Brunch, Restaurants   \n",
       "12                           Food, Pizza, Restaurants   \n",
       "\n",
       "                                                hours Restaurants  \n",
       "0   {'Monday': '11:0-23:0', 'Tuesday': '11:0-23:0'...        True  \n",
       "1   {'Monday': '5:0-18:0', 'Tuesday': '5:0-17:0', ...        True  \n",
       "5   {'Monday': '17:0-21:0', 'Tuesday': '17:0-21:0'...        True  \n",
       "7      {'Saturday': '8:0-14:0', 'Sunday': '8:0-14:0'}        True  \n",
       "12  {'Monday': '11:0-21:0', 'Tuesday': '11:0-21:0'...        True  "
      ]
     },
     "execution_count": 7,
     "metadata": {},
     "output_type": "execute_result"
    }
   ],
   "source": [
    "df_restaurants = df.loc[df.Restaurants == True]\n",
    "df_restaurants.head()"
   ]
  },
  {
   "cell_type": "code",
   "execution_count": 8,
   "id": "99d73e34",
   "metadata": {
    "execution": {
     "iopub.execute_input": "2022-03-10T21:00:24.556724Z",
     "iopub.status.busy": "2022-03-10T21:00:24.555880Z",
     "iopub.status.idle": "2022-03-10T21:00:24.558594Z",
     "shell.execute_reply": "2022-03-10T21:00:24.559137Z"
    },
    "executionInfo": {
     "elapsed": 32,
     "status": "ok",
     "timestamp": 1624712792135,
     "user": {
      "displayName": "siddharth patra",
      "photoUrl": "https://lh3.googleusercontent.com/a-/AOh14Gjnwsdj5DKa95WHRl25dlQz9L1Bbc10vap4xTNIiA=s64",
      "userId": "01966341811263607507"
     },
     "user_tz": -330
    },
    "id": "egaySyxlDXwS",
    "outputId": "2fc63467-851c-44d2-ad22-64821f3b3883",
    "papermill": {
     "duration": 0.05723,
     "end_time": "2022-03-10T21:00:24.559301",
     "exception": false,
     "start_time": "2022-03-10T21:00:24.502071",
     "status": "completed"
    },
    "tags": []
   },
   "outputs": [
    {
     "data": {
      "text/plain": [
       "(50763, 15)"
      ]
     },
     "execution_count": 8,
     "metadata": {},
     "output_type": "execute_result"
    }
   ],
   "source": [
    "df_restaurants.shape"
   ]
  },
  {
   "cell_type": "code",
   "execution_count": 9,
   "id": "7b363165",
   "metadata": {
    "execution": {
     "iopub.execute_input": "2022-03-10T21:00:24.663546Z",
     "iopub.status.busy": "2022-03-10T21:00:24.662915Z",
     "iopub.status.idle": "2022-03-10T21:00:25.067758Z",
     "shell.execute_reply": "2022-03-10T21:00:25.067008Z"
    },
    "executionInfo": {
     "elapsed": 769,
     "status": "ok",
     "timestamp": 1624712792879,
     "user": {
      "displayName": "siddharth patra",
      "photoUrl": "https://lh3.googleusercontent.com/a-/AOh14Gjnwsdj5DKa95WHRl25dlQz9L1Bbc10vap4xTNIiA=s64",
      "userId": "01966341811263607507"
     },
     "user_tz": -330
    },
    "id": "BysH6wuGDZ3S",
    "outputId": "a486d204-9c00-460a-c2db-9a9b9e330700",
    "papermill": {
     "duration": 0.45919,
     "end_time": "2022-03-10T21:00:25.067916",
     "exception": false,
     "start_time": "2022-03-10T21:00:24.608726",
     "status": "completed"
    },
    "tags": []
   },
   "outputs": [],
   "source": [
    "\n",
    "# fig, ax = plt.subplots(figsize=(12,10))\n",
    "# sns.countplot(df_restaurants['stars'], ax=ax)\n",
    "# plt.title('Review Stars Countplot')\n",
    "# # plt.savefig('stars.png')\n",
    "# plt.show()"
   ]
  },
  {
   "cell_type": "code",
   "execution_count": 10,
   "id": "c06f8c97",
   "metadata": {
    "execution": {
     "iopub.execute_input": "2022-03-10T21:00:25.175411Z",
     "iopub.status.busy": "2022-03-10T21:00:25.174693Z",
     "iopub.status.idle": "2022-03-10T21:00:25.231011Z",
     "shell.execute_reply": "2022-03-10T21:00:25.230509Z"
    },
    "executionInfo": {
     "elapsed": 26,
     "status": "ok",
     "timestamp": 1624712792882,
     "user": {
      "displayName": "siddharth patra",
      "photoUrl": "https://lh3.googleusercontent.com/a-/AOh14Gjnwsdj5DKa95WHRl25dlQz9L1Bbc10vap4xTNIiA=s64",
      "userId": "01966341811263607507"
     },
     "user_tz": -330
    },
    "id": "PXlyej_-DbY3",
    "outputId": "ca36c61a-3a94-4408-d07e-18f8dbcc2817",
    "papermill": {
     "duration": 0.111536,
     "end_time": "2022-03-10T21:00:25.231171",
     "exception": false,
     "start_time": "2022-03-10T21:00:25.119635",
     "status": "completed"
    },
    "tags": []
   },
   "outputs": [
    {
     "data": {
      "text/html": [
       "<div>\n",
       "<style scoped>\n",
       "    .dataframe tbody tr th:only-of-type {\n",
       "        vertical-align: middle;\n",
       "    }\n",
       "\n",
       "    .dataframe tbody tr th {\n",
       "        vertical-align: top;\n",
       "    }\n",
       "\n",
       "    .dataframe thead th {\n",
       "        text-align: right;\n",
       "    }\n",
       "</style>\n",
       "<table border=\"1\" class=\"dataframe\">\n",
       "  <thead>\n",
       "    <tr style=\"text-align: right;\">\n",
       "      <th></th>\n",
       "      <th>business_id</th>\n",
       "      <th>name</th>\n",
       "      <th>address</th>\n",
       "      <th>city</th>\n",
       "      <th>state</th>\n",
       "      <th>postal_code</th>\n",
       "      <th>latitude</th>\n",
       "      <th>longitude</th>\n",
       "      <th>stars</th>\n",
       "      <th>review_count</th>\n",
       "      <th>is_open</th>\n",
       "      <th>attributes</th>\n",
       "      <th>categories</th>\n",
       "      <th>hours</th>\n",
       "      <th>Restaurants</th>\n",
       "    </tr>\n",
       "  </thead>\n",
       "  <tbody>\n",
       "    <tr>\n",
       "      <th>64048</th>\n",
       "      <td>4CxF8c3MB7VAdY8zFb2cZQ</td>\n",
       "      <td>Voodoo Doughnut - Old Town</td>\n",
       "      <td>22 SW 3rd Ave</td>\n",
       "      <td>Portland</td>\n",
       "      <td>OR</td>\n",
       "      <td>97204</td>\n",
       "      <td>45.522612</td>\n",
       "      <td>-122.673084</td>\n",
       "      <td>3.5</td>\n",
       "      <td>9185</td>\n",
       "      <td>1</td>\n",
       "      <td>{'RestaurantsPriceRange2': '1', 'BikeParking':...</td>\n",
       "      <td>Local Flavor, Food, Donuts, Wedding Chapels, E...</td>\n",
       "      <td>{'Monday': '0:0-0:0', 'Tuesday': '8:0-21:0', '...</td>\n",
       "      <td>True</td>\n",
       "    </tr>\n",
       "    <tr>\n",
       "      <th>113608</th>\n",
       "      <td>PrsvO1rzkgg6qFizlAoEtg</td>\n",
       "      <td>Mike's Pastry</td>\n",
       "      <td>300 Hanover St</td>\n",
       "      <td>Boston</td>\n",
       "      <td>MA</td>\n",
       "      <td>02113</td>\n",
       "      <td>42.364181</td>\n",
       "      <td>-71.054218</td>\n",
       "      <td>4.0</td>\n",
       "      <td>7298</td>\n",
       "      <td>1</td>\n",
       "      <td>{'RestaurantsPriceRange2': '1', 'BusinessAccep...</td>\n",
       "      <td>Candy Stores, Gelato, Food, Coffee &amp; Tea, Rest...</td>\n",
       "      <td>{'Monday': '8:0-22:0', 'Tuesday': '8:0-22:0', ...</td>\n",
       "      <td>True</td>\n",
       "    </tr>\n",
       "    <tr>\n",
       "      <th>42375</th>\n",
       "      <td>OQ2oHkcWA8KNC1Lsvj1SBA</td>\n",
       "      <td>Screen Door</td>\n",
       "      <td>2337 E Burnside St</td>\n",
       "      <td>Portland</td>\n",
       "      <td>OR</td>\n",
       "      <td>97214</td>\n",
       "      <td>45.523086</td>\n",
       "      <td>-122.641680</td>\n",
       "      <td>4.5</td>\n",
       "      <td>7219</td>\n",
       "      <td>1</td>\n",
       "      <td>{'RestaurantsPriceRange2': '2', 'BusinessAccep...</td>\n",
       "      <td>Caterers, Restaurants, Breakfast &amp; Brunch, Sou...</td>\n",
       "      <td>{'Monday': '11:0-20:0', 'Tuesday': '11:0-20:0'...</td>\n",
       "      <td>True</td>\n",
       "    </tr>\n",
       "    <tr>\n",
       "      <th>25571</th>\n",
       "      <td>zioLxtBc9THNS2TOn9xW1w</td>\n",
       "      <td>Pok Pok</td>\n",
       "      <td>3226 SE Division St</td>\n",
       "      <td>Portland</td>\n",
       "      <td>OR</td>\n",
       "      <td>97202</td>\n",
       "      <td>45.504723</td>\n",
       "      <td>-122.632105</td>\n",
       "      <td>4.0</td>\n",
       "      <td>6221</td>\n",
       "      <td>0</td>\n",
       "      <td>{'BusinessParking': '{'garage': False, 'street...</td>\n",
       "      <td>Restaurants, Asian Fusion, Pan Asian, Thai, Fi...</td>\n",
       "      <td>{'Monday': '11:30-22:0', 'Tuesday': '11:30-22:...</td>\n",
       "      <td>True</td>\n",
       "    </tr>\n",
       "    <tr>\n",
       "      <th>145385</th>\n",
       "      <td>y2w6rFaO0XEiG5mFfOsiFA</td>\n",
       "      <td>Neptune Oyster</td>\n",
       "      <td>63 Salem St</td>\n",
       "      <td>Boston</td>\n",
       "      <td>MA</td>\n",
       "      <td>02113</td>\n",
       "      <td>42.363237</td>\n",
       "      <td>-71.055975</td>\n",
       "      <td>4.5</td>\n",
       "      <td>5115</td>\n",
       "      <td>1</td>\n",
       "      <td>{'NoiseLevel': 'u'average'', 'RestaurantsAttir...</td>\n",
       "      <td>Arabian, Thai, American (Traditional), Live/Ra...</td>\n",
       "      <td>{'Monday': '11:30-21:30', 'Tuesday': '11:30-21...</td>\n",
       "      <td>True</td>\n",
       "    </tr>\n",
       "  </tbody>\n",
       "</table>\n",
       "</div>"
      ],
      "text/plain": [
       "                   business_id                        name   \n",
       "64048   4CxF8c3MB7VAdY8zFb2cZQ  Voodoo Doughnut - Old Town  \\\n",
       "113608  PrsvO1rzkgg6qFizlAoEtg               Mike's Pastry   \n",
       "42375   OQ2oHkcWA8KNC1Lsvj1SBA                 Screen Door   \n",
       "25571   zioLxtBc9THNS2TOn9xW1w                     Pok Pok   \n",
       "145385  y2w6rFaO0XEiG5mFfOsiFA              Neptune Oyster   \n",
       "\n",
       "                    address      city state postal_code   latitude   \n",
       "64048         22 SW 3rd Ave  Portland    OR       97204  45.522612  \\\n",
       "113608       300 Hanover St    Boston    MA       02113  42.364181   \n",
       "42375    2337 E Burnside St  Portland    OR       97214  45.523086   \n",
       "25571   3226 SE Division St  Portland    OR       97202  45.504723   \n",
       "145385          63 Salem St    Boston    MA       02113  42.363237   \n",
       "\n",
       "         longitude  stars  review_count  is_open   \n",
       "64048  -122.673084    3.5          9185        1  \\\n",
       "113608  -71.054218    4.0          7298        1   \n",
       "42375  -122.641680    4.5          7219        1   \n",
       "25571  -122.632105    4.0          6221        0   \n",
       "145385  -71.055975    4.5          5115        1   \n",
       "\n",
       "                                               attributes   \n",
       "64048   {'RestaurantsPriceRange2': '1', 'BikeParking':...  \\\n",
       "113608  {'RestaurantsPriceRange2': '1', 'BusinessAccep...   \n",
       "42375   {'RestaurantsPriceRange2': '2', 'BusinessAccep...   \n",
       "25571   {'BusinessParking': '{'garage': False, 'street...   \n",
       "145385  {'NoiseLevel': 'u'average'', 'RestaurantsAttir...   \n",
       "\n",
       "                                               categories   \n",
       "64048   Local Flavor, Food, Donuts, Wedding Chapels, E...  \\\n",
       "113608  Candy Stores, Gelato, Food, Coffee & Tea, Rest...   \n",
       "42375   Caterers, Restaurants, Breakfast & Brunch, Sou...   \n",
       "25571   Restaurants, Asian Fusion, Pan Asian, Thai, Fi...   \n",
       "145385  Arabian, Thai, American (Traditional), Live/Ra...   \n",
       "\n",
       "                                                    hours Restaurants  \n",
       "64048   {'Monday': '0:0-0:0', 'Tuesday': '8:0-21:0', '...        True  \n",
       "113608  {'Monday': '8:0-22:0', 'Tuesday': '8:0-22:0', ...        True  \n",
       "42375   {'Monday': '11:0-20:0', 'Tuesday': '11:0-20:0'...        True  \n",
       "25571   {'Monday': '11:30-22:0', 'Tuesday': '11:30-22:...        True  \n",
       "145385  {'Monday': '11:30-21:30', 'Tuesday': '11:30-21...        True  "
      ]
     },
     "execution_count": 10,
     "metadata": {},
     "output_type": "execute_result"
    }
   ],
   "source": [
    "top_restaurants = df_restaurants.sort_values(by=['review_count', 'stars'], ascending=False)[:20]\n",
    "top_restaurants.head()"
   ]
  },
  {
   "cell_type": "code",
   "execution_count": 11,
   "id": "ff6032dd",
   "metadata": {
    "execution": {
     "iopub.execute_input": "2022-03-10T21:00:25.339999Z",
     "iopub.status.busy": "2022-03-10T21:00:25.339036Z",
     "iopub.status.idle": "2022-03-10T21:00:25.785985Z",
     "shell.execute_reply": "2022-03-10T21:00:25.785487Z"
    },
    "executionInfo": {
     "elapsed": 688,
     "status": "ok",
     "timestamp": 1624712793547,
     "user": {
      "displayName": "Setu Parmar"}
     },
     "user_tz": -330
    },
    "id": "M0l4hTgVDe94",
    "outputId": "4e3eef7a-fa88-4520-820e-b7eb36d31884",
    "papermill": {
     "duration": 0.503094,
     "end_time": "2022-03-10T21:00:25.786148",
     "exception": false,
     "start_time": "2022-03-10T21:00:25.283054",
     "status": "completed"
    },
    "tags": []
   },
   "outputs": [
    {
     "data": {
      "image/png": "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",
      "text/plain": [
       "<Figure size 1200x1000 with 1 Axes>"
      ]
     },
     "metadata": {},
     "output_type": "display_data"
    }
   ],
   "source": [
    "fig, ax = plt.subplots(figsize=(12,10))\n",
    "sns.barplot(x = 'stars', y = 'name', data=top_restaurants, ax= ax);\n",
    "plt.savefig('top20_restaurants.png')\n",
    "plt.show()"
   ]
  },
  {
   "cell_type": "code",
   "execution_count": 12,
   "id": "e4c858c4",
   "metadata": {},
   "outputs": [],
   "source": [
    "Vancouver = df_restaurants[df_restaurants.state == 'BC']"
   ]
  },
  {
   "cell_type": "markdown",
   "id": "60b06a0b",
   "metadata": {
    "id": "--vDyXPadq1Z",
    "papermill": {
     "duration": 0.095376,
     "end_time": "2022-03-10T21:00:27.531582",
     "exception": false,
     "start_time": "2022-03-10T21:00:27.436206",
     "status": "completed"
    },
    "tags": []
   },
   "source": [
    "## K-Means Clustering"
   ]
  },
  {
   "cell_type": "markdown",
   "id": "d853513b",
   "metadata": {
    "id": "rr-STmwDd4eQ",
    "papermill": {
     "duration": 0.09421,
     "end_time": "2022-03-10T21:00:27.720621",
     "exception": false,
     "start_time": "2022-03-10T21:00:27.626411",
     "status": "completed"
    },
    "tags": []
   },
   "source": [
    "### Determing the number of clusters (K)"
   ]
  },
  {
   "cell_type": "code",
   "execution_count": 13,
   "id": "f547f15b",
   "metadata": {
    "execution": {
     "iopub.execute_input": "2022-03-10T21:00:27.919949Z",
     "iopub.status.busy": "2022-03-10T21:00:27.919082Z",
     "iopub.status.idle": "2022-03-10T21:01:39.102531Z",
     "shell.execute_reply": "2022-03-10T21:01:39.103113Z"
    },
    "id": "lQooO8-lEX_A",
    "papermill": {
     "duration": 71.28853,
     "end_time": "2022-03-10T21:01:39.103364",
     "exception": false,
     "start_time": "2022-03-10T21:00:27.814834",
     "status": "completed"
    },
    "tags": []
   },
   "outputs": [],
   "source": [
    "# Elbow method to determine the number of K in Kmeans Clustering\n",
    "warnings.filterwarnings(\"ignore\")\n",
    "coords = Vancouver[['longitude','latitude']]\n",
    "\n",
    "distortions = []\n",
    "K = range(1,25)\n",
    "for k in K:\n",
    "    kmeansModel = KMeans(n_clusters=k)\n",
    "    kmeansModel = kmeansModel.fit(coords)\n",
    "    distortions.append(kmeansModel.inertia_)\n",
    "\n"
   ]
  },
  {
   "cell_type": "code",
   "execution_count": 14,
   "id": "98407f85",
   "metadata": {
    "execution": {
     "iopub.execute_input": "2022-03-10T21:01:39.334411Z",
     "iopub.status.busy": "2022-03-10T21:01:39.324878Z",
     "iopub.status.idle": "2022-03-10T21:01:39.468962Z",
     "shell.execute_reply": "2022-03-10T21:01:39.469442Z"
    },
    "executionInfo": {
     "elapsed": 692,
     "status": "ok",
     "timestamp": 1624690487523,
     "user": {
      "displayName": "",
      "photoUrl": "",
      "userId": ""
     },
     "user_tz": -330
    },
    "id": "mhesWYlWFpRx",
    "outputId": "c9d0648a-cb09-492b-a45a-028cdc6da962",
    "papermill": {
     "duration": 0.266846,
     "end_time": "2022-03-10T21:01:39.469620",
     "exception": false,
     "start_time": "2022-03-10T21:01:39.202774",
     "status": "completed"
    },
    "tags": []
   },
   "outputs": [
    {
     "data": {
      "image/png": "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",
      "text/plain": [
       "<Figure size 1200x800 with 1 Axes>"
      ]
     },
     "metadata": {},
     "output_type": "display_data"
    }
   ],
   "source": [
    "fig, ax = plt.subplots(figsize=(12, 8))\n",
    "plt.plot(K, distortions, marker='o')\n",
    "plt.xlabel('k')\n",
    "plt.ylabel('Distortions')\n",
    "plt.title('Elbow Method For Optimal k')\n",
    "# plt.savefig('elbow.png')\n",
    "plt.show()"
   ]
  },
  {
   "cell_type": "markdown",
   "id": "89df9dbb",
   "metadata": {
    "id": "_1bJ6k2ejO7j",
    "papermill": {
     "duration": 0.096312,
     "end_time": "2022-03-10T21:01:39.664143",
     "exception": false,
     "start_time": "2022-03-10T21:01:39.567831",
     "status": "completed"
    },
    "tags": []
   },
   "source": [
    "Silhoute method\n"
   ]
  },
  {
   "cell_type": "code",
   "execution_count": 15,
   "id": "504e1ea3",
   "metadata": {
    "execution": {
     "iopub.execute_input": "2022-03-10T21:01:39.861291Z",
     "iopub.status.busy": "2022-03-10T21:01:39.860612Z",
     "iopub.status.idle": "2022-03-10T21:05:27.333895Z",
     "shell.execute_reply": "2022-03-10T21:05:27.333332Z"
    },
    "id": "4GKB3vrCjPEu",
    "papermill": {
     "duration": 227.574017,
     "end_time": "2022-03-10T21:05:27.334052",
     "exception": false,
     "start_time": "2022-03-10T21:01:39.760035",
     "status": "completed"
    },
    "tags": []
   },
   "outputs": [],
   "source": [
    "from sklearn.metrics import silhouette_score\n",
    "\n",
    "sil = []\n",
    "kmax = 50\n",
    "\n",
    "# dissimilarity would not be defined for a single cluster, thus, minimum number of clusters should be 2\n",
    "for k in range(2, kmax+1):\n",
    "  kmeans = KMeans(n_clusters = k).fit(coords)\n",
    "  labels = kmeans.labels_\n",
    "  sil.append(silhouette_score(coords, labels, metric = 'euclidean'))"
   ]
  },
  {
   "cell_type": "code",
   "execution_count": 16,
   "id": "1f9f4c31",
   "metadata": {
    "execution": {
     "iopub.execute_input": "2022-03-10T21:05:27.540384Z",
     "iopub.status.busy": "2022-03-10T21:05:27.535374Z",
     "iopub.status.idle": "2022-03-10T21:05:27.544304Z",
     "shell.execute_reply": "2022-03-10T21:05:27.545140Z"
    },
    "executionInfo": {
     "elapsed": 15,
     "status": "ok",
     "timestamp": 1624690600974,
     "user": {
      "displayName": "",
      "photoUrl": "",
      "userId": ""
     },
     "user_tz": -330
    },
    "id": "4d44ulvIjhb5",
    "outputId": "1e4c151c-f777-4b83-d7ac-ed4a39bcd43e",
    "papermill": {
     "duration": 0.111308,
     "end_time": "2022-03-10T21:05:27.545366",
     "exception": false,
     "start_time": "2022-03-10T21:05:27.434058",
     "status": "completed"
    },
    "tags": []
   },
   "outputs": [
    {
     "data": {
      "text/plain": [
       "[0.6422768831683868,\n",
       " 0.4899869447023747,\n",
       " 0.5141366862597944,\n",
       " 0.4975108919708839,\n",
       " 0.47987200797915586,\n",
       " 0.44506801447182415,\n",
       " 0.47072299736047385,\n",
       " 0.4283582256076005,\n",
       " 0.48005484607039245,\n",
       " 0.47676503788169355,\n",
       " 0.4829142831853357,\n",
       " 0.4768030365741647,\n",
       " 0.47839483090293206,\n",
       " 0.4755224849380889,\n",
       " 0.4964828561086764,\n",
       " 0.4865612994491907,\n",
       " 0.4632631963188707,\n",
       " 0.5056073125268972,\n",
       " 0.45593449606909914,\n",
       " 0.5082954595849355,\n",
       " 0.47059513065034353,\n",
       " 0.4775755128889805,\n",
       " 0.4813647173259484,\n",
       " 0.4879253676856438,\n",
       " 0.49319949914258077,\n",
       " 0.49694394292748995,\n",
       " 0.5003061036106481,\n",
       " 0.48794785605930563,\n",
       " 0.5025134355464123,\n",
       " 0.5057190976838081,\n",
       " 0.5080250576246194,\n",
       " 0.5174448541738302,\n",
       " 0.49428820521369415,\n",
       " 0.4779938490686371,\n",
       " 0.5295265052547522,\n",
       " 0.5020142465667,\n",
       " 0.5101930151185088,\n",
       " 0.4933322846024825,\n",
       " 0.5156679005648719,\n",
       " 0.5129433569874055,\n",
       " 0.5039829703368289,\n",
       " 0.5315709322028133,\n",
       " 0.52541512478989,\n",
       " 0.5164890103239539,\n",
       " 0.5242477039216548,\n",
       " 0.5144627035584792,\n",
       " 0.5017301304924693,\n",
       " 0.511000036208481,\n",
       " 0.5106951973841493]"
      ]
     },
     "execution_count": 16,
     "metadata": {},
     "output_type": "execute_result"
    }
   ],
   "source": [
    "sil"
   ]
  },
  {
   "cell_type": "markdown",
   "id": "e9306b69",
   "metadata": {
    "id": "nd2wPOjbd-ES",
    "papermill": {
     "duration": 0.096415,
     "end_time": "2022-03-10T21:05:27.757308",
     "exception": false,
     "start_time": "2022-03-10T21:05:27.660893",
     "status": "completed"
    },
    "tags": []
   },
   "source": [
    "### K-Means Clustering"
   ]
  },
  {
   "cell_type": "code",
   "execution_count": 17,
   "id": "3143aca4",
   "metadata": {
    "execution": {
     "iopub.execute_input": "2022-03-10T21:05:27.953162Z",
     "iopub.status.busy": "2022-03-10T21:05:27.952511Z",
     "iopub.status.idle": "2022-03-10T21:05:30.148138Z",
     "shell.execute_reply": "2022-03-10T21:05:30.148932Z"
    },
    "executionInfo": {
     "elapsed": 2133,
     "status": "ok",
     "timestamp": 1624690603103,
     "user": {
      "displayName": "",
      "photoUrl": "",
      "userId": ""
     },
     "user_tz": -330
    },
    "id": "wBuasFSBGB3I",
    "outputId": "6e7d3ced-7e8c-4ccf-c266-02a422ab7a1c",
    "papermill": {
     "duration": 2.295559,
     "end_time": "2022-03-10T21:05:30.149226",
     "exception": false,
     "start_time": "2022-03-10T21:05:27.853667",
     "status": "completed"
    },
    "tags": []
   },
   "outputs": [
    {
     "name": "stdout",
     "output_type": "stream",
     "text": [
      "k = 5  silhouette_score  0.4975108919708839\n"
     ]
    }
   ],
   "source": [
    "kmeans = KMeans(n_clusters=5, init='k-means++')\n",
    "kmeans.fit(coords)\n",
    "y = kmeans.labels_\n",
    "print(\"k = 5\", \" silhouette_score \", silhouette_score(coords, y, metric='euclidean'))"
   ]
  },
  {
   "cell_type": "code",
   "execution_count": 18,
   "id": "05f20cbf",
   "metadata": {
    "execution": {
     "iopub.execute_input": "2022-03-10T21:05:30.350737Z",
     "iopub.status.busy": "2022-03-10T21:05:30.350141Z",
     "iopub.status.idle": "2022-03-10T21:05:30.381355Z",
     "shell.execute_reply": "2022-03-10T21:05:30.381840Z"
    },
    "executionInfo": {
     "elapsed": 11,
     "status": "ok",
     "timestamp": 1624690603105,
     "user": {
      "displayName": "",
      "photoUrl": "",
      "userId": ""
     },
     "user_tz": -330
    },
    "id": "jAXKUAVoIpDR",
    "outputId": "eeb595b1-3af7-4ae1-c21c-658f9fd1c86f",
    "papermill": {
     "duration": 0.133554,
     "end_time": "2022-03-10T21:05:30.382004",
     "exception": false,
     "start_time": "2022-03-10T21:05:30.248450",
     "status": "completed"
    },
    "tags": []
   },
   "outputs": [
    {
     "data": {
      "text/html": [
       "<div>\n",
       "<style scoped>\n",
       "    .dataframe tbody tr th:only-of-type {\n",
       "        vertical-align: middle;\n",
       "    }\n",
       "\n",
       "    .dataframe tbody tr th {\n",
       "        vertical-align: top;\n",
       "    }\n",
       "\n",
       "    .dataframe thead th {\n",
       "        text-align: right;\n",
       "    }\n",
       "</style>\n",
       "<table border=\"1\" class=\"dataframe\">\n",
       "  <thead>\n",
       "    <tr style=\"text-align: right;\">\n",
       "      <th></th>\n",
       "      <th>business_id</th>\n",
       "      <th>name</th>\n",
       "      <th>address</th>\n",
       "      <th>city</th>\n",
       "      <th>state</th>\n",
       "      <th>postal_code</th>\n",
       "      <th>latitude</th>\n",
       "      <th>longitude</th>\n",
       "      <th>stars</th>\n",
       "      <th>review_count</th>\n",
       "      <th>is_open</th>\n",
       "      <th>attributes</th>\n",
       "      <th>categories</th>\n",
       "      <th>hours</th>\n",
       "      <th>Restaurants</th>\n",
       "      <th>cluster</th>\n",
       "    </tr>\n",
       "  </thead>\n",
       "  <tbody>\n",
       "    <tr>\n",
       "      <th>5</th>\n",
       "      <td>D4JtQNTI4X3KcbzacDJsMw</td>\n",
       "      <td>Bob Likes Thai Food</td>\n",
       "      <td>3755 Main St</td>\n",
       "      <td>Vancouver</td>\n",
       "      <td>BC</td>\n",
       "      <td>V5V</td>\n",
       "      <td>49.251342</td>\n",
       "      <td>-123.101333</td>\n",
       "      <td>3.5</td>\n",
       "      <td>169</td>\n",
       "      <td>1</td>\n",
       "      <td>{'GoodForKids': 'True', 'Alcohol': 'u'none'', ...</td>\n",
       "      <td>Restaurants, Thai</td>\n",
       "      <td>{'Monday': '17:0-21:0', 'Tuesday': '17:0-21:0'...</td>\n",
       "      <td>True</td>\n",
       "      <td>0</td>\n",
       "    </tr>\n",
       "    <tr>\n",
       "      <th>33</th>\n",
       "      <td>QciD6FbNklaJvUbLExD4Nw</td>\n",
       "      <td>ARGO</td>\n",
       "      <td>3790 Canada Way, Unit 108</td>\n",
       "      <td>Burnaby</td>\n",
       "      <td>BC</td>\n",
       "      <td>V5G 1G4</td>\n",
       "      <td>49.254436</td>\n",
       "      <td>-123.020050</td>\n",
       "      <td>4.0</td>\n",
       "      <td>76</td>\n",
       "      <td>1</td>\n",
       "      <td>{'WheelchairAccessible': 'False', 'Restaurants...</td>\n",
       "      <td>Food Delivery Services, Food, Restaurants, Med...</td>\n",
       "      <td>{'Monday': '0:0-0:0', 'Tuesday': '11:30-21:0',...</td>\n",
       "      <td>True</td>\n",
       "      <td>2</td>\n",
       "    </tr>\n",
       "    <tr>\n",
       "      <th>47</th>\n",
       "      <td>Xi2GGNzOiUS8r6WCFvu-fw</td>\n",
       "      <td>Kerala Kitchen</td>\n",
       "      <td>103- 9386 120 Street</td>\n",
       "      <td>Surrey</td>\n",
       "      <td>BC</td>\n",
       "      <td>V3V 4B9</td>\n",
       "      <td>49.173723</td>\n",
       "      <td>-122.889641</td>\n",
       "      <td>4.0</td>\n",
       "      <td>9</td>\n",
       "      <td>1</td>\n",
       "      <td>{'BusinessParking': '{'garage': False, 'street...</td>\n",
       "      <td>Indian, Restaurants</td>\n",
       "      <td>{'Monday': '11:0-22:0', 'Tuesday': '11:0-22:0'...</td>\n",
       "      <td>True</td>\n",
       "      <td>4</td>\n",
       "    </tr>\n",
       "    <tr>\n",
       "      <th>112</th>\n",
       "      <td>NoPXKdIwRzflOW-5exFAqA</td>\n",
       "      <td>1st Avenue Seafood by Pocha</td>\n",
       "      <td>901 Lougheed Hwy</td>\n",
       "      <td>Coquitlam</td>\n",
       "      <td>BC</td>\n",
       "      <td>V3K 3T3</td>\n",
       "      <td>49.237547</td>\n",
       "      <td>-122.872628</td>\n",
       "      <td>4.0</td>\n",
       "      <td>12</td>\n",
       "      <td>0</td>\n",
       "      <td>{'Ambience': '{'touristy': False, 'hipster': F...</td>\n",
       "      <td>Restaurants, Korean, Seafood</td>\n",
       "      <td>{'Tuesday': '11:30-23:0', 'Wednesday': '11:30-...</td>\n",
       "      <td>True</td>\n",
       "      <td>4</td>\n",
       "    </tr>\n",
       "    <tr>\n",
       "      <th>131</th>\n",
       "      <td>jfDfHzAq6iKkRnzzZ4n1nQ</td>\n",
       "      <td>Let's Roll Custom Sushi Bar</td>\n",
       "      <td>1184 Denman Street, Suite 104</td>\n",
       "      <td>Vancouver</td>\n",
       "      <td>BC</td>\n",
       "      <td>V6G 2M9</td>\n",
       "      <td>49.286360</td>\n",
       "      <td>-123.140261</td>\n",
       "      <td>4.5</td>\n",
       "      <td>31</td>\n",
       "      <td>0</td>\n",
       "      <td>{'RestaurantsAttire': 'u'casual'', 'HasTV': 'F...</td>\n",
       "      <td>Restaurants, Canadian (New), Sushi Bars, Ameri...</td>\n",
       "      <td>{'Monday': '11:0-22:0', 'Tuesday': '11:0-22:0'...</td>\n",
       "      <td>True</td>\n",
       "      <td>0</td>\n",
       "    </tr>\n",
       "  </tbody>\n",
       "</table>\n",
       "</div>"
      ],
      "text/plain": [
       "                business_id                         name   \n",
       "5    D4JtQNTI4X3KcbzacDJsMw          Bob Likes Thai Food  \\\n",
       "33   QciD6FbNklaJvUbLExD4Nw                         ARGO   \n",
       "47   Xi2GGNzOiUS8r6WCFvu-fw               Kerala Kitchen   \n",
       "112  NoPXKdIwRzflOW-5exFAqA  1st Avenue Seafood by Pocha   \n",
       "131  jfDfHzAq6iKkRnzzZ4n1nQ  Let's Roll Custom Sushi Bar   \n",
       "\n",
       "                           address       city state postal_code   latitude   \n",
       "5                     3755 Main St  Vancouver    BC         V5V  49.251342  \\\n",
       "33       3790 Canada Way, Unit 108    Burnaby    BC     V5G 1G4  49.254436   \n",
       "47            103- 9386 120 Street     Surrey    BC     V3V 4B9  49.173723   \n",
       "112               901 Lougheed Hwy  Coquitlam    BC     V3K 3T3  49.237547   \n",
       "131  1184 Denman Street, Suite 104  Vancouver    BC     V6G 2M9  49.286360   \n",
       "\n",
       "      longitude  stars  review_count  is_open   \n",
       "5   -123.101333    3.5           169        1  \\\n",
       "33  -123.020050    4.0            76        1   \n",
       "47  -122.889641    4.0             9        1   \n",
       "112 -122.872628    4.0            12        0   \n",
       "131 -123.140261    4.5            31        0   \n",
       "\n",
       "                                            attributes   \n",
       "5    {'GoodForKids': 'True', 'Alcohol': 'u'none'', ...  \\\n",
       "33   {'WheelchairAccessible': 'False', 'Restaurants...   \n",
       "47   {'BusinessParking': '{'garage': False, 'street...   \n",
       "112  {'Ambience': '{'touristy': False, 'hipster': F...   \n",
       "131  {'RestaurantsAttire': 'u'casual'', 'HasTV': 'F...   \n",
       "\n",
       "                                            categories   \n",
       "5                                    Restaurants, Thai  \\\n",
       "33   Food Delivery Services, Food, Restaurants, Med...   \n",
       "47                                 Indian, Restaurants   \n",
       "112                       Restaurants, Korean, Seafood   \n",
       "131  Restaurants, Canadian (New), Sushi Bars, Ameri...   \n",
       "\n",
       "                                                 hours Restaurants  cluster  \n",
       "5    {'Monday': '17:0-21:0', 'Tuesday': '17:0-21:0'...        True        0  \n",
       "33   {'Monday': '0:0-0:0', 'Tuesday': '11:30-21:0',...        True        2  \n",
       "47   {'Monday': '11:0-22:0', 'Tuesday': '11:0-22:0'...        True        4  \n",
       "112  {'Tuesday': '11:30-23:0', 'Wednesday': '11:30-...        True        4  \n",
       "131  {'Monday': '11:0-22:0', 'Tuesday': '11:0-22:0'...        True        0  "
      ]
     },
     "execution_count": 18,
     "metadata": {},
     "output_type": "execute_result"
    }
   ],
   "source": [
    "Vancouver['cluster'] = kmeans.predict(Vancouver[['longitude','latitude']])\n",
    "Vancouver.head()"
   ]
  },
  {
   "cell_type": "markdown",
   "id": "d1178d6f",
   "metadata": {
    "id": "HE7o3hDDehBx",
    "papermill": {
     "duration": 0.117976,
     "end_time": "2022-03-10T21:05:31.017688",
     "exception": false,
     "start_time": "2022-03-10T21:05:30.899712",
     "status": "completed"
    },
    "tags": []
   },
   "source": [
    "## Location-Based Recommendation"
   ]
  },
  {
   "cell_type": "code",
   "execution_count": 19,
   "id": "5c512e12",
   "metadata": {
    "execution": {
     "iopub.execute_input": "2022-03-10T21:05:31.266984Z",
     "iopub.status.busy": "2022-03-10T21:05:31.266395Z",
     "iopub.status.idle": "2022-03-10T21:05:31.308056Z",
     "shell.execute_reply": "2022-03-10T21:05:31.308471Z"
    },
    "executionInfo": {
     "elapsed": 11,
     "status": "ok",
     "timestamp": 1624690670407,
     "user": {
      "displayName": "",
      "photoUrl": "",
      "userId": ""
     },
     "user_tz": -330
    },
    "id": "V7NhiTA3JHog",
    "outputId": "2e373e8e-e4eb-4b23-b320-a52bad528881",
    "papermill": {
     "duration": 0.168035,
     "end_time": "2022-03-10T21:05:31.308643",
     "exception": false,
     "start_time": "2022-03-10T21:05:31.140608",
     "status": "completed"
    },
    "tags": []
   },
   "outputs": [
    {
     "data": {
      "text/html": [
       "<div>\n",
       "<style scoped>\n",
       "    .dataframe tbody tr th:only-of-type {\n",
       "        vertical-align: middle;\n",
       "    }\n",
       "\n",
       "    .dataframe tbody tr th {\n",
       "        vertical-align: top;\n",
       "    }\n",
       "\n",
       "    .dataframe thead th {\n",
       "        text-align: right;\n",
       "    }\n",
       "</style>\n",
       "<table border=\"1\" class=\"dataframe\">\n",
       "  <thead>\n",
       "    <tr style=\"text-align: right;\">\n",
       "      <th></th>\n",
       "      <th>business_id</th>\n",
       "      <th>name</th>\n",
       "      <th>address</th>\n",
       "      <th>city</th>\n",
       "      <th>state</th>\n",
       "      <th>postal_code</th>\n",
       "      <th>latitude</th>\n",
       "      <th>longitude</th>\n",
       "      <th>stars</th>\n",
       "      <th>review_count</th>\n",
       "      <th>is_open</th>\n",
       "      <th>attributes</th>\n",
       "      <th>categories</th>\n",
       "      <th>hours</th>\n",
       "      <th>Restaurants</th>\n",
       "      <th>cluster</th>\n",
       "    </tr>\n",
       "  </thead>\n",
       "  <tbody>\n",
       "    <tr>\n",
       "      <th>5209</th>\n",
       "      <td>VPqWLp9kMiZEbctCebIZUA</td>\n",
       "      <td>Medina Cafe</td>\n",
       "      <td>780 Richards Street</td>\n",
       "      <td>Vancouver</td>\n",
       "      <td>BC</td>\n",
       "      <td>V6B 3A4</td>\n",
       "      <td>49.280443</td>\n",
       "      <td>-123.117036</td>\n",
       "      <td>4.0</td>\n",
       "      <td>2302</td>\n",
       "      <td>1</td>\n",
       "      <td>{'GoodForKids': 'True', 'RestaurantsPriceRange...</td>\n",
       "      <td>Bars, Moroccan, Wine Bars, Breakfast &amp; Brunch,...</td>\n",
       "      <td>{'Monday': '0:0-0:0', 'Tuesday': '9:0-15:0', '...</td>\n",
       "      <td>True</td>\n",
       "      <td>0</td>\n",
       "    </tr>\n",
       "    <tr>\n",
       "      <th>68607</th>\n",
       "      <td>4EV_ZcQmjAmP3pmO-_nb2A</td>\n",
       "      <td>Miku</td>\n",
       "      <td>200 Granville Street, Suite 70</td>\n",
       "      <td>Vancouver</td>\n",
       "      <td>BC</td>\n",
       "      <td>V6C 1S4</td>\n",
       "      <td>49.287008</td>\n",
       "      <td>-123.113051</td>\n",
       "      <td>4.5</td>\n",
       "      <td>1805</td>\n",
       "      <td>1</td>\n",
       "      <td>{'RestaurantsAttire': ''casual'', 'BikeParking...</td>\n",
       "      <td>Japanese, Sushi Bars, Restaurants</td>\n",
       "      <td>{'Monday': '11:30-23:0', 'Tuesday': '11:30-23:...</td>\n",
       "      <td>True</td>\n",
       "      <td>0</td>\n",
       "    </tr>\n",
       "    <tr>\n",
       "      <th>97282</th>\n",
       "      <td>_4R46MNkwx9MeOyt0YfNxA</td>\n",
       "      <td>Chambar</td>\n",
       "      <td>568 Beatty Street</td>\n",
       "      <td>Vancouver</td>\n",
       "      <td>BC</td>\n",
       "      <td>V6B 2L3</td>\n",
       "      <td>49.280146</td>\n",
       "      <td>-123.109925</td>\n",
       "      <td>4.0</td>\n",
       "      <td>1356</td>\n",
       "      <td>1</td>\n",
       "      <td>{'GoodForKids': 'False', 'RestaurantsReservati...</td>\n",
       "      <td>Cafes, Middle Eastern, Nightlife, Breakfast &amp; ...</td>\n",
       "      <td>{'Monday': '0:0-0:0', 'Thursday': '9:0-22:0', ...</td>\n",
       "      <td>True</td>\n",
       "      <td>0</td>\n",
       "    </tr>\n",
       "    <tr>\n",
       "      <th>50355</th>\n",
       "      <td>yeNenSjz_HCqngGFU5d8NQ</td>\n",
       "      <td>Phnom Penh</td>\n",
       "      <td>244 E Georgia Street</td>\n",
       "      <td>Vancouver</td>\n",
       "      <td>BC</td>\n",
       "      <td>V6A 1Z7</td>\n",
       "      <td>49.278431</td>\n",
       "      <td>-123.098205</td>\n",
       "      <td>4.0</td>\n",
       "      <td>1306</td>\n",
       "      <td>1</td>\n",
       "      <td>{'RestaurantsPriceRange2': '2', 'Caters': 'Fal...</td>\n",
       "      <td>Vietnamese, Cambodian, Restaurants</td>\n",
       "      <td>{'Monday': '11:0-19:0', 'Tuesday': '11:0-19:0'...</td>\n",
       "      <td>True</td>\n",
       "      <td>0</td>\n",
       "    </tr>\n",
       "    <tr>\n",
       "      <th>50851</th>\n",
       "      <td>LjdbthVdtLYKSi7iVAFl0g</td>\n",
       "      <td>Jam Cafe on Beatty</td>\n",
       "      <td>556 Beatty Street</td>\n",
       "      <td>Vancouver</td>\n",
       "      <td>BC</td>\n",
       "      <td>V6B 2L3</td>\n",
       "      <td>49.280155</td>\n",
       "      <td>-123.109542</td>\n",
       "      <td>4.5</td>\n",
       "      <td>1097</td>\n",
       "      <td>1</td>\n",
       "      <td>{'RestaurantsTakeOut': 'True', 'Ambience': '{'...</td>\n",
       "      <td>Breakfast &amp; Brunch, Restaurants</td>\n",
       "      <td>{'Monday': '8:0-15:0', 'Tuesday': '8:0-15:0', ...</td>\n",
       "      <td>True</td>\n",
       "      <td>0</td>\n",
       "    </tr>\n",
       "  </tbody>\n",
       "</table>\n",
       "</div>"
      ],
      "text/plain": [
       "                  business_id                name   \n",
       "5209   VPqWLp9kMiZEbctCebIZUA         Medina Cafe  \\\n",
       "68607  4EV_ZcQmjAmP3pmO-_nb2A                Miku   \n",
       "97282  _4R46MNkwx9MeOyt0YfNxA             Chambar   \n",
       "50355  yeNenSjz_HCqngGFU5d8NQ          Phnom Penh   \n",
       "50851  LjdbthVdtLYKSi7iVAFl0g  Jam Cafe on Beatty   \n",
       "\n",
       "                              address       city state postal_code   latitude   \n",
       "5209              780 Richards Street  Vancouver    BC     V6B 3A4  49.280443  \\\n",
       "68607  200 Granville Street, Suite 70  Vancouver    BC     V6C 1S4  49.287008   \n",
       "97282               568 Beatty Street  Vancouver    BC     V6B 2L3  49.280146   \n",
       "50355            244 E Georgia Street  Vancouver    BC     V6A 1Z7  49.278431   \n",
       "50851               556 Beatty Street  Vancouver    BC     V6B 2L3  49.280155   \n",
       "\n",
       "        longitude  stars  review_count  is_open   \n",
       "5209  -123.117036    4.0          2302        1  \\\n",
       "68607 -123.113051    4.5          1805        1   \n",
       "97282 -123.109925    4.0          1356        1   \n",
       "50355 -123.098205    4.0          1306        1   \n",
       "50851 -123.109542    4.5          1097        1   \n",
       "\n",
       "                                              attributes   \n",
       "5209   {'GoodForKids': 'True', 'RestaurantsPriceRange...  \\\n",
       "68607  {'RestaurantsAttire': ''casual'', 'BikeParking...   \n",
       "97282  {'GoodForKids': 'False', 'RestaurantsReservati...   \n",
       "50355  {'RestaurantsPriceRange2': '2', 'Caters': 'Fal...   \n",
       "50851  {'RestaurantsTakeOut': 'True', 'Ambience': '{'...   \n",
       "\n",
       "                                              categories   \n",
       "5209   Bars, Moroccan, Wine Bars, Breakfast & Brunch,...  \\\n",
       "68607                  Japanese, Sushi Bars, Restaurants   \n",
       "97282  Cafes, Middle Eastern, Nightlife, Breakfast & ...   \n",
       "50355                 Vietnamese, Cambodian, Restaurants   \n",
       "50851                    Breakfast & Brunch, Restaurants   \n",
       "\n",
       "                                                   hours Restaurants  cluster  \n",
       "5209   {'Monday': '0:0-0:0', 'Tuesday': '9:0-15:0', '...        True        0  \n",
       "68607  {'Monday': '11:30-23:0', 'Tuesday': '11:30-23:...        True        0  \n",
       "97282  {'Monday': '0:0-0:0', 'Thursday': '9:0-22:0', ...        True        0  \n",
       "50355  {'Monday': '11:0-19:0', 'Tuesday': '11:0-19:0'...        True        0  \n",
       "50851  {'Monday': '8:0-15:0', 'Tuesday': '8:0-15:0', ...        True        0  "
      ]
     },
     "execution_count": 19,
     "metadata": {},
     "output_type": "execute_result"
    }
   ],
   "source": [
    "top_restaurants_Vancouver = Vancouver.sort_values(by=['review_count', 'stars'], ascending=False)\n",
    "top_restaurants_Vancouver.head()"
   ]
  },
  {
   "cell_type": "code",
   "execution_count": 20,
   "id": "c60c7f67",
   "metadata": {},
   "outputs": [],
   "source": [
    "def location(l):\n",
    "    g = geocoder.bing(l, key='ApeSa5WT18Jiyk4ViaMZKuc5AyVBY1bb5NBOIsNDkVULQA8st8jWx0h9n2pQWiMk')\n",
    "    results = g.json\n",
    "    return results['lat'], results['lng']"
   ]
  },
  {
   "cell_type": "code",
   "execution_count": 21,
   "id": "34501a01",
   "metadata": {},
   "outputs": [
    {
     "name": "stdout",
     "output_type": "stream",
     "text": [
      "(49.23971939, -123.13221741)\n"
     ]
    }
   ],
   "source": [
    "loc = input('Enter your dining location ')\n",
    "location_result = location(loc)\n",
    "print(location_result)\n",
    "loc_lat, loc_long = location_result"
   ]
  },
  {
   "cell_type": "code",
   "execution_count": 24,
   "id": "4a073e6c",
   "metadata": {
    "execution": {
     "iopub.execute_input": "2022-03-10T21:05:31.556768Z",
     "iopub.status.busy": "2022-03-10T21:05:31.556155Z",
     "iopub.status.idle": "2022-03-10T21:05:31.557741Z",
     "shell.execute_reply": "2022-03-10T21:05:31.558190Z"
    },
    "id": "eOGtzwBKJZmM",
    "papermill": {
     "duration": 0.128241,
     "end_time": "2022-03-10T21:05:31.558350",
     "exception": false,
     "start_time": "2022-03-10T21:05:31.430109",
     "status": "completed"
    },
    "tags": []
   },
   "outputs": [],
   "source": [
    "def recommend_restaurants(df, longitude, latitude):\n",
    "    # Predict the cluster for longitude and latitude provided\n",
    "    cluster = kmeans.predict(np.array([longitude,latitude]).reshape(1,-1))[0]\n",
    "    print(cluster)\n",
    "   \n",
    "    # Get the best restaurant in this cluster\n",
    "    return  df[df['cluster']==cluster].iloc[0:10][['name', 'address','stars']]\n",
    "   "
   ]
  },
  {
   "cell_type": "code",
   "execution_count": 25,
   "id": "25e4e871",
   "metadata": {
    "execution": {
     "iopub.execute_input": "2022-03-10T21:05:31.807080Z",
     "iopub.status.busy": "2022-03-10T21:05:31.806401Z",
     "iopub.status.idle": "2022-03-10T21:05:31.822548Z",
     "shell.execute_reply": "2022-03-10T21:05:31.823249Z"
    },
    "executionInfo": {
     "elapsed": 386,
     "status": "ok",
     "timestamp": 1624690673456,
     "user": {
      "displayName": "",
      "photoUrl": "",
      "userId": ""
     },
     "user_tz": -330
    },
    "id": "ZfY3slXUJlXS",
    "outputId": "b5035d7a-47fc-441f-c07b-f67f91dd4a38",
    "papermill": {
     "duration": 0.142683,
     "end_time": "2022-03-10T21:05:31.823462",
     "exception": false,
     "start_time": "2022-03-10T21:05:31.680779",
     "status": "completed"
    },
    "tags": []
   },
   "outputs": [
    {
     "name": "stdout",
     "output_type": "stream",
     "text": [
      "0\n"
     ]
    },
    {
     "data": {
      "text/html": [
       "<div>\n",
       "<style scoped>\n",
       "    .dataframe tbody tr th:only-of-type {\n",
       "        vertical-align: middle;\n",
       "    }\n",
       "\n",
       "    .dataframe tbody tr th {\n",
       "        vertical-align: top;\n",
       "    }\n",
       "\n",
       "    .dataframe thead th {\n",
       "        text-align: right;\n",
       "    }\n",
       "</style>\n",
       "<table border=\"1\" class=\"dataframe\">\n",
       "  <thead>\n",
       "    <tr style=\"text-align: right;\">\n",
       "      <th></th>\n",
       "      <th>name</th>\n",
       "      <th>address</th>\n",
       "      <th>stars</th>\n",
       "    </tr>\n",
       "  </thead>\n",
       "  <tbody>\n",
       "    <tr>\n",
       "      <th>5209</th>\n",
       "      <td>Medina Cafe</td>\n",
       "      <td>780 Richards Street</td>\n",
       "      <td>4.0</td>\n",
       "    </tr>\n",
       "    <tr>\n",
       "      <th>68607</th>\n",
       "      <td>Miku</td>\n",
       "      <td>200 Granville Street, Suite 70</td>\n",
       "      <td>4.5</td>\n",
       "    </tr>\n",
       "    <tr>\n",
       "      <th>97282</th>\n",
       "      <td>Chambar</td>\n",
       "      <td>568 Beatty Street</td>\n",
       "      <td>4.0</td>\n",
       "    </tr>\n",
       "    <tr>\n",
       "      <th>50355</th>\n",
       "      <td>Phnom Penh</td>\n",
       "      <td>244 E Georgia Street</td>\n",
       "      <td>4.0</td>\n",
       "    </tr>\n",
       "    <tr>\n",
       "      <th>50851</th>\n",
       "      <td>Jam Cafe on Beatty</td>\n",
       "      <td>556 Beatty Street</td>\n",
       "      <td>4.5</td>\n",
       "    </tr>\n",
       "    <tr>\n",
       "      <th>130988</th>\n",
       "      <td>The Flying Pig - Yaletown</td>\n",
       "      <td>1168 Hamilton Street, Unit 104</td>\n",
       "      <td>4.0</td>\n",
       "    </tr>\n",
       "    <tr>\n",
       "      <th>25152</th>\n",
       "      <td>Joe Fortes Seafood &amp; Chop House</td>\n",
       "      <td>777 Thurlow Street</td>\n",
       "      <td>4.0</td>\n",
       "    </tr>\n",
       "    <tr>\n",
       "      <th>52997</th>\n",
       "      <td>Twisted Fork</td>\n",
       "      <td>213 Carral Street</td>\n",
       "      <td>4.0</td>\n",
       "    </tr>\n",
       "    <tr>\n",
       "      <th>81437</th>\n",
       "      <td>Japadog</td>\n",
       "      <td>899 Burrard Street</td>\n",
       "      <td>4.0</td>\n",
       "    </tr>\n",
       "    <tr>\n",
       "      <th>54419</th>\n",
       "      <td>Hokkaido Ramen Santouka</td>\n",
       "      <td>1690 Robson Street</td>\n",
       "      <td>4.0</td>\n",
       "    </tr>\n",
       "  </tbody>\n",
       "</table>\n",
       "</div>"
      ],
      "text/plain": [
       "                                   name                         address  stars\n",
       "5209                        Medina Cafe             780 Richards Street    4.0\n",
       "68607                              Miku  200 Granville Street, Suite 70    4.5\n",
       "97282                           Chambar               568 Beatty Street    4.0\n",
       "50355                        Phnom Penh            244 E Georgia Street    4.0\n",
       "50851                Jam Cafe on Beatty               556 Beatty Street    4.5\n",
       "130988        The Flying Pig - Yaletown  1168 Hamilton Street, Unit 104    4.0\n",
       "25152   Joe Fortes Seafood & Chop House              777 Thurlow Street    4.0\n",
       "52997                      Twisted Fork               213 Carral Street    4.0\n",
       "81437                           Japadog              899 Burrard Street    4.0\n",
       "54419           Hokkaido Ramen Santouka              1690 Robson Street    4.0"
      ]
     },
     "execution_count": 25,
     "metadata": {},
     "output_type": "execute_result"
    }
   ],
   "source": [
    "recommend_restaurants(top_restaurants_Vancouver,loc_long,  loc_lat)"
   ]
  },
  {
   "cell_type": "code",
   "execution_count": null,
   "id": "f2eac86e",
   "metadata": {
    "execution": {
     "iopub.execute_input": "2022-03-10T21:05:32.076785Z",
     "iopub.status.busy": "2022-03-10T21:05:32.076030Z",
     "iopub.status.idle": "2022-03-10T21:05:32.091242Z",
     "shell.execute_reply": "2022-03-10T21:05:32.091661Z"
    },
    "executionInfo": {
     "elapsed": 383,
     "status": "ok",
     "timestamp": 1624690679723,
     "user": {
      "displayName": "",
      "photoUrl": "",
      "userId": ""
     },
     "user_tz": -330
    },
    "id": "mpDscIq8JrG2",
    "outputId": "2273416a-f51c-4f3a-bb7b-fccbfffbc909",
    "papermill": {
     "duration": 0.143381,
     "end_time": "2022-03-10T21:05:32.091836",
     "exception": false,
     "start_time": "2022-03-10T21:05:31.948455",
     "status": "completed"
    },
    "tags": []
   },
   "outputs": [
    {
     "name": "stdout",
     "output_type": "stream",
     "text": [
      "1\n"
     ]
    },
    {
     "data": {
      "text/html": [
       "<div>\n",
       "<style scoped>\n",
       "    .dataframe tbody tr th:only-of-type {\n",
       "        vertical-align: middle;\n",
       "    }\n",
       "\n",
       "    .dataframe tbody tr th {\n",
       "        vertical-align: top;\n",
       "    }\n",
       "\n",
       "    .dataframe thead th {\n",
       "        text-align: right;\n",
       "    }\n",
       "</style>\n",
       "<table border=\"1\" class=\"dataframe\">\n",
       "  <thead>\n",
       "    <tr style=\"text-align: right;\">\n",
       "      <th></th>\n",
       "      <th>name</th>\n",
       "      <th>latitude</th>\n",
       "      <th>longitude</th>\n",
       "    </tr>\n",
       "  </thead>\n",
       "  <tbody>\n",
       "    <tr>\n",
       "      <th>5209</th>\n",
       "      <td>Medina Cafe</td>\n",
       "      <td>49.280443</td>\n",
       "      <td>-123.117036</td>\n",
       "    </tr>\n",
       "    <tr>\n",
       "      <th>68607</th>\n",
       "      <td>Miku</td>\n",
       "      <td>49.287008</td>\n",
       "      <td>-123.113051</td>\n",
       "    </tr>\n",
       "    <tr>\n",
       "      <th>97282</th>\n",
       "      <td>Chambar</td>\n",
       "      <td>49.280146</td>\n",
       "      <td>-123.109925</td>\n",
       "    </tr>\n",
       "    <tr>\n",
       "      <th>50355</th>\n",
       "      <td>Phnom Penh</td>\n",
       "      <td>49.278431</td>\n",
       "      <td>-123.098205</td>\n",
       "    </tr>\n",
       "    <tr>\n",
       "      <th>50851</th>\n",
       "      <td>Jam Cafe on Beatty</td>\n",
       "      <td>49.280155</td>\n",
       "      <td>-123.109542</td>\n",
       "    </tr>\n",
       "  </tbody>\n",
       "</table>\n",
       "</div>"
      ],
      "text/plain": [
       "                     name   latitude   longitude\n",
       "5209          Medina Cafe  49.280443 -123.117036\n",
       "68607                Miku  49.287008 -123.113051\n",
       "97282             Chambar  49.280146 -123.109925\n",
       "50355          Phnom Penh  49.278431 -123.098205\n",
       "50851  Jam Cafe on Beatty  49.280155 -123.109542"
      ]
     },
     "execution_count": 66,
     "metadata": {},
     "output_type": "execute_result"
    }
   ],
   "source": [
    "##recommend_restaurants(top_restaurants_Vancouver,loc_long, loc_lat) "
   ]
  },
  {
   "cell_type": "code",
   "execution_count": null,
   "id": "8c50b9cf",
   "metadata": {
    "execution": {
     "iopub.execute_input": "2022-03-10T21:05:32.345656Z",
     "iopub.status.busy": "2022-03-10T21:05:32.344960Z",
     "iopub.status.idle": "2022-03-10T21:05:32.362461Z",
     "shell.execute_reply": "2022-03-10T21:05:32.363256Z"
    },
    "executionInfo": {
     "elapsed": 383,
     "status": "ok",
     "timestamp": 1624690682619,
     "user": {
      "displayName": "",
      "photoUrl": "",
      "userId": ""
     },
     "user_tz": -330
    },
    "id": "4uNed2GrJ1O9",
    "outputId": "cbe3d6ac-89ad-4f85-e34a-e68a166efcb9",
    "papermill": {
     "duration": 0.145281,
     "end_time": "2022-03-10T21:05:32.363451",
     "exception": false,
     "start_time": "2022-03-10T21:05:32.218170",
     "status": "completed"
    },
    "tags": []
   },
   "outputs": [
    {
     "name": "stdout",
     "output_type": "stream",
     "text": [
      "1\n"
     ]
    },
    {
     "data": {
      "text/html": [
       "<div>\n",
       "<style scoped>\n",
       "    .dataframe tbody tr th:only-of-type {\n",
       "        vertical-align: middle;\n",
       "    }\n",
       "\n",
       "    .dataframe tbody tr th {\n",
       "        vertical-align: top;\n",
       "    }\n",
       "\n",
       "    .dataframe thead th {\n",
       "        text-align: right;\n",
       "    }\n",
       "</style>\n",
       "<table border=\"1\" class=\"dataframe\">\n",
       "  <thead>\n",
       "    <tr style=\"text-align: right;\">\n",
       "      <th></th>\n",
       "      <th>name</th>\n",
       "      <th>latitude</th>\n",
       "      <th>longitude</th>\n",
       "    </tr>\n",
       "  </thead>\n",
       "  <tbody>\n",
       "    <tr>\n",
       "      <th>5209</th>\n",
       "      <td>Medina Cafe</td>\n",
       "      <td>49.280443</td>\n",
       "      <td>-123.117036</td>\n",
       "    </tr>\n",
       "    <tr>\n",
       "      <th>68607</th>\n",
       "      <td>Miku</td>\n",
       "      <td>49.287008</td>\n",
       "      <td>-123.113051</td>\n",
       "    </tr>\n",
       "    <tr>\n",
       "      <th>97282</th>\n",
       "      <td>Chambar</td>\n",
       "      <td>49.280146</td>\n",
       "      <td>-123.109925</td>\n",
       "    </tr>\n",
       "    <tr>\n",
       "      <th>50355</th>\n",
       "      <td>Phnom Penh</td>\n",
       "      <td>49.278431</td>\n",
       "      <td>-123.098205</td>\n",
       "    </tr>\n",
       "    <tr>\n",
       "      <th>50851</th>\n",
       "      <td>Jam Cafe on Beatty</td>\n",
       "      <td>49.280155</td>\n",
       "      <td>-123.109542</td>\n",
       "    </tr>\n",
       "  </tbody>\n",
       "</table>\n",
       "</div>"
      ],
      "text/plain": [
       "                     name   latitude   longitude\n",
       "5209          Medina Cafe  49.280443 -123.117036\n",
       "68607                Miku  49.287008 -123.113051\n",
       "97282             Chambar  49.280146 -123.109925\n",
       "50355          Phnom Penh  49.278431 -123.098205\n",
       "50851  Jam Cafe on Beatty  49.280155 -123.109542"
      ]
     },
     "execution_count": 67,
     "metadata": {},
     "output_type": "execute_result"
    }
   ],
   "source": [
    "#recommend_restaurants(top_restaurants_Vancouver, loc_long, loc_lat )"
   ]
  },
  {
   "cell_type": "code",
   "execution_count": null,
   "id": "eaab1344",
   "metadata": {},
   "outputs": [],
   "source": []
  }
 ],
 "metadata": {
  "kernelspec": {
   "display_name": "Python 3",
   "language": "python",
   "name": "python3"
  },
  "language_info": {
   "codemirror_mode": {
    "name": "ipython",
    "version": 3
   },
   "file_extension": ".py",
   "mimetype": "text/x-python",
   "name": "python",
   "nbconvert_exporter": "python",
   "pygments_lexer": "ipython3",
   "version": "3.11.2"
  },
  "papermill": {
   "default_parameters": {},
   "duration": 369.987889,
   "end_time": "2022-03-10T21:05:35.638970",
   "environment_variables": {},
   "exception": null,
   "input_path": "__notebook__.ipynb",
   "output_path": "__notebook__.ipynb",
   "parameters": {},
   "start_time": "2022-03-10T20:59:25.651081",
   "version": "2.3.3"
  }
 },
 "nbformat": 4,
 "nbformat_minor": 5
}
